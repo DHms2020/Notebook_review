{
 "cells": [
  {
   "cell_type": "markdown",
   "metadata": {},
   "source": [
    "# Faster R-CNN: Towards Real-Time Object Detection with Region Proposal Networks\n",
    "### 授课老师：Chris\n",
    "\n",
    "\n",
    "# 1 前言\n",
    "## 1.1课程回顾\n",
    "\n",
    "<img src=\"./imgs/LastLessionReview.png\"  width=\"700\" height=\"700\" align=\"bottom\" />\n"
   ]
  },
  {
   "cell_type": "markdown",
   "metadata": {},
   "source": [
    "## 1.2 本课知识树\n",
    "<img src=\"./imgs/codeStructure.png\"  width=\"600\" height=\"1000\" align=\"left\" />\n",
    "<img src=\"./imgs/structure.png\"  width=\"600\" height=\"1000\" align=\"left\" />"
   ]
  },
  {
   "cell_type": "markdown",
   "metadata": {},
   "source": [
    "# 2 准备工作\n",
    "## 2.1项目环境配置\n",
    "\n",
    "* Python3.6\n",
    "* jupyter notebook\n",
    "* torch           1.2.0+cu92\n",
    "* torchsummary    1.5.1\n",
    "* torchvision     0.4.0+cu92\n",
    "* Pillow          6.1.0\n",
    "* numpy           1.17.0\n",
    "* opencv-python   4.1.2.30\n",
    "* visdom\n",
    "\n",
    "Pycharm： 强大的python IDE，拥有调试、语法高亮、Project管理、代码跳转、智能提示、版本控制等功能"
   ]
  },
  {
   "cell_type": "markdown",
   "metadata": {},
   "source": [
    "\n",
    "## 2.2 数据集和代码下载\n",
    " \n",
    "* 数据集下载\n",
    "  pascal voc数据集 http://host.robots.ox.ac.uk/pascal/VOC/\n",
    "  coco 数据集 http://images.cocodataset.org/zips/train2014.zip\n",
    "\n",
    "* 本课程采用的代码 https://github.com/chenyuntc/simple-faster-rcnn-pytorch\n",
    "* 代码讲解也可以参考 https://blog.csdn.net/w55100/article/details/88529029/"
   ]
  },
  {
   "cell_type": "markdown",
   "metadata": {},
   "source": [
    "# 3 项目代码结构\n",
    "\n",
    "<img src=\"./imgs/framework.png\"  width=\"700\" height=\"700\" align=\"bottom\" />\n",
    "<img src=\"./imgs/structure.png\"  width=\"400\" height=\"400\" align=\"bottom\" />\n",
    "<img src=\"./imgs/visdom-fasterrcnn.png\"  width=\"1000\" height=\"1000\" align=\"bottom\" />\n",
    "\n"
   ]
  },
  {
   "cell_type": "markdown",
   "metadata": {},
   "source": [
    "# 4 算法模块及细节\n",
    "\n",
    "\n",
    "<img src=\"./imgs/codeDetails2.png\"  width=\"900\" height=\"900\" align=\"bottom\" />\n"
   ]
  },
  {
   "cell_type": "markdown",
   "metadata": {},
   "source": [
    "# 5 关键点总结及代码梳理\n",
    "\n",
    "<img src=\"./imgs/keypoints.png\"  width=\"700\" height=\"700\" align=\"bottom\" />"
   ]
  },
  {
   "cell_type": "markdown",
   "metadata": {},
   "source": [
    "# 6 作业 \n",
    "  \n",
    "  \n",
    "`【思考题】`可视化roi pooling操作的示意图\n",
    "\n",
    "`【代码实践】`亲手跑一跑Faster RCNN的测试代码，并可视化部分检测结果\n",
    "\n",
    "`【代码实践】`输出单点上生成的9个Anchor，并可视化\n",
    "\n",
    "---"
   ]
  }
 ],
 "metadata": {
  "colab": {
   "authorship_tag": "ABX9TyMaJPtlMHur6DonwEyZLw5h",
   "collapsed_sections": [],
   "name": "data process and load.ipynb",
   "provenance": []
  },
  "kernelspec": {
   "display_name": "Python 3",
   "language": "python",
   "name": "python3"
  },
  "language_info": {
   "codemirror_mode": {
    "name": "ipython",
    "version": 3
   },
   "file_extension": ".py",
   "mimetype": "text/x-python",
   "name": "python",
   "nbconvert_exporter": "python",
   "pygments_lexer": "ipython3",
   "version": "3.7.1"
  }
 },
 "nbformat": 4,
 "nbformat_minor": 2
}
